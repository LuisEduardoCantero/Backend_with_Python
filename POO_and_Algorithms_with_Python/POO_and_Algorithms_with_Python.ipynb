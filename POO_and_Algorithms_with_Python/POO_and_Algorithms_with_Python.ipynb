{
 "cells": [
  {
   "cell_type": "markdown",
   "id": "23ae0d5b",
   "metadata": {},
   "source": [
    "# POO"
   ]
  },
  {
   "cell_type": "markdown",
   "id": "7f60fb30",
   "metadata": {},
   "source": [
    "Para definir una clase, simplemente utilizamos el keyword class. Por ejemplo:,"
   ]
  },
  {
   "cell_type": "markdown",
   "id": "26dcec5b",
   "metadata": {},
   "source": [
    "### Instancia"
   ]
  },
  {
   "cell_type": "code",
   "execution_count": 3,
   "id": "879a8991",
   "metadata": {},
   "outputs": [],
   "source": [
    "# creamos una instancia\n",
    "hotel = Hotel()\n"
   ]
  },
  {
   "cell_type": "code",
   "execution_count": 4,
   "id": "542227af",
   "metadata": {},
   "outputs": [
    {
     "name": "stdout",
     "output_type": "stream",
     "text": [
      "20\n"
     ]
    }
   ],
   "source": [
    "class Hotel:\n",
    "    \n",
    "    def __init__(self, numero_maximo_de_huespedes, lugares_de_estacionamiento): #esto es el constructor en python\n",
    "        self.numero_maximo_de_huespedes = numero_maximo_de_huespedes\n",
    "        self.lugares_de_estacionamiento = lugares_de_estacionamiento\n",
    "        self.huespedes = 0\n",
    "\n",
    "\n",
    "hotel = Hotel(numero_maximo_de_huespedes=50, lugares_de_estacionamiento=20)\n",
    "print(hotel.lugares_de_estacionamiento) # 20"
   ]
  },
  {
   "cell_type": "markdown",
   "id": "cbb5d9a5",
   "metadata": {},
   "source": [
    "### Métodos de instancia"
   ]
  },
  {
   "cell_type": "code",
   "execution_count": 8,
   "id": "443d76ff",
   "metadata": {},
   "outputs": [
    {
     "data": {
      "text/plain": [
       "2"
      ]
     },
     "execution_count": 8,
     "metadata": {},
     "output_type": "execute_result"
    }
   ],
   "source": [
    "class Hotel:\n",
    "\n",
    "    def __init__(self, numero_maximo_de_huespedes, lugares_de_estacionamiento):\n",
    "        self.numero_maximo_de_huespedes = numero_maximo_de_huespedes\n",
    "        self.lugares_de_estacionamiento = lugares_de_estacionamiento\n",
    "        self.huespedes = 0\n",
    "\n",
    "    def anadir_huespedes(self, cantidad_de_huespedes):\n",
    "        self.huespedes += cantidad_de_huespedes\n",
    "\n",
    "    def checkout(self, cantidad_de_huespedes):\n",
    "        self.huespedes -= cantidad_de_huespedes\n",
    "\n",
    "    def ocupacion_total(self):\n",
    "        return self.huespedes\n",
    "\n",
    "\n",
    "hotel = Hotel(50, 20)\n",
    "hotel.anadir_huespedes(3)\n",
    "hotel.checkout(1)\n",
    "hotel.ocupacion_total() # 2"
   ]
  },
  {
   "cell_type": "markdown",
   "id": "65163b9e",
   "metadata": {},
   "source": [
    "## Tipos de datos abstractos y clases, Instancias"
   ]
  },
  {
   "cell_type": "code",
   "execution_count": 10,
   "id": "589ced93",
   "metadata": {},
   "outputs": [],
   "source": [
    "class Coordenada:\n",
    "    \n",
    "    def __init__(self, x, y):\n",
    "        self.x = x\n",
    "        self.y = y\n",
    "        \n",
    "    def distancia(self, otra_coordenada):\n",
    "        x_diff = (self.x - otra_coordenada.x)**2\n",
    "        y_diff = (self.y - otra_coordenada.y)**2\n",
    "        \n",
    "        return (x_diff + y_diff)**0.5\n",
    "\n",
    "# con __name__, si este archivo se ejecuta desde la terminal se ejecuta lo siguiente\n",
    "\n",
    "# if __name__ = '__main__':\n",
    "#     coord_1 = Coordenada(3, 30)\n",
    "#     coord_2 = Coordenada(4, 8)\n",
    "    \n",
    "#     print(coord_1.distancia(coord_2))\n",
    "    "
   ]
  },
  {
   "cell_type": "code",
   "execution_count": 12,
   "id": "394907a1",
   "metadata": {},
   "outputs": [
    {
     "name": "stdout",
     "output_type": "stream",
     "text": [
      "22.02271554554524\n"
     ]
    }
   ],
   "source": [
    "coord_1 = Coordenada(3, 30)\n",
    "coord_2 = Coordenada(4, 8)\n",
    "    \n",
    "print(coord_1.distancia(coord_2))"
   ]
  },
  {
   "cell_type": "markdown",
   "id": "c394ae96",
   "metadata": {},
   "source": [
    "## Decomposicion (partir un problema)"
   ]
  },
  {
   "cell_type": "markdown",
   "id": "560c618b",
   "metadata": {},
   "source": [
    "Vamos a partir un automovil en problemas mas pequenos"
   ]
  },
  {
   "cell_type": "code",
   "execution_count": 13,
   "id": "e335b1f7",
   "metadata": {},
   "outputs": [],
   "source": [
    "class Automovil:\n",
    "    \n",
    "    def __init__(self, modelo, marca, color):\n",
    "        self.modelo = modelo\n",
    "        self.marca = marca\n",
    "        self.color = color\n",
    "        self._estado = 'en_reposo' # Variable privada (no podra interactuar por fuera) \n",
    "        self._motor = Motor(cilindros=4) # privado\n",
    "        \n",
    "    def acelerar(self, tipo = 'despacio'):\n",
    "        if tipo == 'rapida':\n",
    "            self._motor.inyecta_gasolina(10)\n",
    "        else:\n",
    "            self._motor._inyecta_gasolina(3)\n",
    "        self._estado = 'en movimiento'    \n",
    "        \n",
    "class Motor:\n",
    "    \n",
    "    def __init__(self, cilindros, tipo = 'gasolina'):\n",
    "        self.cilindros = cilindros\n",
    "        self.tipo = tipo\n",
    "        self._temperatura = 0\n",
    "        # gasolina no es necesario porque ya se inicio\n",
    "        \n",
    "        def inyecta_gasolina(self, canitdad):\n",
    "            pass # por el momento no hace nada"
   ]
  },
  {
   "cell_type": "markdown",
   "id": "8bec6e43",
   "metadata": {},
   "source": [
    "## Abstraccion"
   ]
  },
  {
   "cell_type": "markdown",
   "id": "7546ccc0",
   "metadata": {},
   "source": [
    "Crear un objeto real"
   ]
  },
  {
   "cell_type": "code",
   "execution_count": 16,
   "id": "b52b6dc9",
   "metadata": {},
   "outputs": [],
   "source": [
    "class Lavadora:\n",
    "    def __init__(self):\n",
    "        pass #por el momento no hay cuerpo en esta funcion\n",
    "    \n",
    "    def lavar(self, temperatura='caliente'):\n",
    "        self._llenar_tanque_de_agua(temperatura)\n",
    "        self._anadir_jabon()\n",
    "        self._lavar()\n",
    "        self._centrifugar()\n",
    "    \n",
    "    def _llenar_tanque_de_agua(self, temperatura):\n",
    "        print(f'Llenando el tanque con agua a {temperatura}')\n",
    "    \n",
    "    def _anadir_jabon(self):\n",
    "        print('Anadiendo Jabon')\n",
    "        \n",
    "    def _lavar(self):\n",
    "        print('Lavando la ropa')\n",
    "        \n",
    "    def _centrifugar(self):\n",
    "        print('Centrifugando')\n",
    "        "
   ]
  },
  {
   "cell_type": "code",
   "execution_count": 17,
   "id": "00a56991",
   "metadata": {},
   "outputs": [
    {
     "name": "stdout",
     "output_type": "stream",
     "text": [
      "Llenando el tanque con agua a caliente\n",
      "Anadiendo Jabon\n",
      "Lavando la ropa\n",
      "Centrifugando\n"
     ]
    }
   ],
   "source": [
    "lavadora = Lavadora()\n",
    "lavadora.lavar()"
   ]
  },
  {
   "cell_type": "markdown",
   "id": "fc0b4039",
   "metadata": {},
   "source": [
    "## Utilizando getters y setters"
   ]
  },
  {
   "cell_type": "markdown",
   "id": "823874e2",
   "metadata": {},
   "source": [
    "Incluyamos un par de métodos para obtener la distancia y otro para que no acepte valores inferiores a cero, pues no tendría sentido que un vehículo recorra una distancia negativa. Estos son métodos getters y setters:"
   ]
  },
  {
   "cell_type": "code",
   "execution_count": 19,
   "id": "7dcea427",
   "metadata": {},
   "outputs": [],
   "source": [
    "class Millas:\n",
    "\tdef __init__(self, distancia = 0):\n",
    "\t\tself.distancia = distancia\n",
    "\n",
    "\tdef convertir_a_kilometros(self):\n",
    "\t\treturn (self.distancia * 1.609344)\n",
    "\n",
    "\t# Método getter\n",
    "\tdef obtener_distancia(self):\n",
    "\t\treturn self._distancia\n",
    "\n",
    "\t# Método setter\n",
    "\tdef definir_distancia(self, valor):\n",
    "\t\tif valor < 0:\n",
    "\t\t\traise ValueError(\"No es posible convertir distancias menores a 0.\")\n",
    "\t\tself._distancia = valor"
   ]
  },
  {
   "cell_type": "markdown",
   "id": "9ff1a0e4",
   "metadata": {},
   "source": [
    "## Funcion Property\n",
    "\n",
    "Esta función está incluida en Python, en particular crea y retorna la propiedad de un objeto. La propiedad de un objeto posee los métodos getter(), setter() y del().\n",
    "\n",
    "En tanto, la función tiene cuatro atributos: property(fget, fset, fdel, fdoc):\n",
    "\n",
    "fget: trae el valor de un atributo.\n",
    "    \n",
    "fset: define el valor de un atributo.\n",
    "    \n",
    "fdel: elimina el valor de un atributo.\n",
    "    \n",
    "fdoc: crea un docstring por atributo"
   ]
  },
  {
   "cell_type": "code",
   "execution_count": 20,
   "id": "4ad67330",
   "metadata": {},
   "outputs": [
    {
     "name": "stdout",
     "output_type": "stream",
     "text": [
      "Llamada al método setter\n"
     ]
    }
   ],
   "source": [
    "class Millas:\n",
    "\tdef __init__(self):\n",
    "\t\tself._distancia = 0\n",
    "\n",
    "\t# Función para obtener el valor de _distancia\n",
    "\tdef obtener_distancia(self):\n",
    "\t\tprint(\"Llamada al método getter\")\n",
    "\t\treturn self._distancia\n",
    "\n",
    "\t# Función para definir el valor de _distancia\n",
    "\tdef definir_distancia(self, recorrido):\n",
    "\t\tprint(\"Llamada al método setter\")\n",
    "\t\tself._distancia = recorrido\n",
    "\n",
    "\t# Función para eliminar el atributo _distancia\n",
    "\tdef eliminar_distancia(self):\n",
    "\t\tdel self._distancia\n",
    "\n",
    "\tdistancia = property(obtener_distancia, definir_distancia, eliminar_distancia)\n",
    "\n",
    "# Creamos un nuevo objeto\n",
    "avion = Millas()\n",
    "\n",
    "# Indicamos la distancia\n",
    "avion.distancia = 200"
   ]
  },
  {
   "cell_type": "code",
   "execution_count": null,
   "id": "25e998bc",
   "metadata": {},
   "outputs": [],
   "source": []
  },
  {
   "cell_type": "code",
   "execution_count": null,
   "id": "04e7710c",
   "metadata": {},
   "outputs": [],
   "source": []
  },
  {
   "cell_type": "code",
   "execution_count": null,
   "id": "72b0d433",
   "metadata": {},
   "outputs": [],
   "source": []
  },
  {
   "cell_type": "code",
   "execution_count": null,
   "id": "0181a665",
   "metadata": {},
   "outputs": [],
   "source": []
  },
  {
   "cell_type": "code",
   "execution_count": null,
   "id": "7f92da51",
   "metadata": {},
   "outputs": [],
   "source": []
  },
  {
   "cell_type": "code",
   "execution_count": null,
   "id": "347741e5",
   "metadata": {},
   "outputs": [],
   "source": []
  },
  {
   "cell_type": "code",
   "execution_count": null,
   "id": "6ec0e264",
   "metadata": {},
   "outputs": [],
   "source": []
  },
  {
   "cell_type": "code",
   "execution_count": null,
   "id": "9448e416",
   "metadata": {},
   "outputs": [],
   "source": []
  }
 ],
 "metadata": {
  "kernelspec": {
   "display_name": "Python 3 (ipykernel)",
   "language": "python",
   "name": "python3"
  },
  "language_info": {
   "codemirror_mode": {
    "name": "ipython",
    "version": 3
   },
   "file_extension": ".py",
   "mimetype": "text/x-python",
   "name": "python",
   "nbconvert_exporter": "python",
   "pygments_lexer": "ipython3",
   "version": "3.8.10"
  }
 },
 "nbformat": 4,
 "nbformat_minor": 5
}
