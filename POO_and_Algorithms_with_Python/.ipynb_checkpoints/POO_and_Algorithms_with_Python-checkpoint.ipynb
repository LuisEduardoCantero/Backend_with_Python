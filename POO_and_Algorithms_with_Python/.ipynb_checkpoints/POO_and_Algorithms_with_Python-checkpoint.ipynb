{
 "cells": [
  {
   "cell_type": "markdown",
   "id": "23ae0d5b",
   "metadata": {},
   "source": [
    "# POO"
   ]
  },
  {
   "cell_type": "markdown",
   "id": "7f60fb30",
   "metadata": {},
   "source": [
    "Para definir una clase, simplemente utilizamos el keyword class. Por ejemplo:,"
   ]
  },
  {
   "cell_type": "markdown",
   "id": "26dcec5b",
   "metadata": {},
   "source": [
    "### Instancia"
   ]
  },
  {
   "cell_type": "code",
   "execution_count": 2,
   "id": "542227af",
   "metadata": {},
   "outputs": [
    {
     "name": "stdout",
     "output_type": "stream",
     "text": [
      "20\n"
     ]
    }
   ],
   "source": [
    "class Hotel:\n",
    "    \n",
    "    def __init__(self, numero_maximo_de_huespedes, lugares_de_estacionamiento): #esto es el constructor en python\n",
    "        self.numero_maximo_de_huespedes = numero_maximo_de_huespedes\n",
    "        self.lugares_de_estacionamiento = lugares_de_estacionamiento\n",
    "        self.huespedes = 0\n",
    "\n",
    "\n",
    "hotel = Hotel(numero_maximo_de_huespedes=50, lugares_de_estacionamiento=20)\n",
    "print(hotel.lugares_de_estacionamiento) # 20"
   ]
  },
  {
   "cell_type": "code",
   "execution_count": 4,
   "id": "879a8991",
   "metadata": {},
   "outputs": [],
   "source": [
    "# creamos una instancia\n",
    "hotel = Hotel(5, 5)\n"
   ]
  },
  {
   "cell_type": "markdown",
   "id": "cbb5d9a5",
   "metadata": {},
   "source": [
    "### Métodos de instancia"
   ]
  },
  {
   "cell_type": "code",
   "execution_count": 6,
   "id": "443d76ff",
   "metadata": {},
   "outputs": [
    {
     "data": {
      "text/plain": [
       "2"
      ]
     },
     "execution_count": 6,
     "metadata": {},
     "output_type": "execute_result"
    }
   ],
   "source": [
    "class Hotel:\n",
    "\n",
    "    def __init__(self, numero_maximo_de_huespedes, lugares_de_estacionamiento):\n",
    "        self.numero_maximo_de_huespedes = numero_maximo_de_huespedes\n",
    "        self.lugares_de_estacionamiento = lugares_de_estacionamiento\n",
    "        self.huespedes = 0\n",
    "\n",
    "    def anadir_huespedes(self, cantidad_de_huespedes):\n",
    "        self.huespedes += cantidad_de_huespedes\n",
    "\n",
    "    def checkout(self, cantidad_de_huespedes):\n",
    "        self.huespedes -= cantidad_de_huespedes\n",
    "\n",
    "    def ocupacion_total(self):\n",
    "        return self.huespedes\n",
    "\n",
    "\n",
    "hotel = Hotel(50, 20)\n",
    "hotel.anadir_huespedes(3)\n",
    "hotel.checkout(1)\n",
    "hotel.ocupacion_total() # 2"
   ]
  },
  {
   "cell_type": "markdown",
   "id": "65163b9e",
   "metadata": {},
   "source": [
    "## Tipos de datos abstractos y clases, Instancias"
   ]
  },
  {
   "cell_type": "code",
   "execution_count": 9,
   "id": "589ced93",
   "metadata": {},
   "outputs": [],
   "source": [
    "class Coordenada:\n",
    "    \n",
    "    def __init__(self, x, y): # se ingresa una tupla como punto de origen\n",
    "        self.x = x\n",
    "        self.y = y\n",
    "        \n",
    "    def distancia(self, otra_coordenada):\n",
    "        x_diff = (self.x - otra_coordenada.x)**2\n",
    "        y_diff = (self.y - otra_coordenada.y)**2\n",
    "        \n",
    "        return (x_diff + y_diff)**0.5\n",
    "\n",
    "# con __name__, si este archivo se ejecuta desde la terminal se ejecuta lo siguiente\n",
    "\n",
    "# if __name__ = '__main__':\n",
    "#     coord_1 = Coordenada(3, 30)\n",
    "#     coord_2 = Coordenada(4, 8)\n",
    "    \n",
    "#     print(coord_1.distancia(coord_2))\n",
    "    "
   ]
  },
  {
   "cell_type": "code",
   "execution_count": 10,
   "id": "394907a1",
   "metadata": {},
   "outputs": [
    {
     "name": "stdout",
     "output_type": "stream",
     "text": [
      "22.02271554554524\n"
     ]
    }
   ],
   "source": [
    "coord_1 = Coordenada(3, 30)\n",
    "coord_2 = Coordenada(4, 8)\n",
    "    \n",
    "print(coord_1.distancia(coord_2))"
   ]
  },
  {
   "cell_type": "markdown",
   "id": "c394ae96",
   "metadata": {},
   "source": [
    "## Decomposicion (partir un problema en sus componentes)"
   ]
  },
  {
   "cell_type": "markdown",
   "id": "560c618b",
   "metadata": {},
   "source": [
    "Vamos a partir un automovil en problemas mas pequenos"
   ]
  },
  {
   "cell_type": "code",
   "execution_count": 12,
   "id": "e335b1f7",
   "metadata": {},
   "outputs": [],
   "source": [
    "class Automovil:\n",
    "    \n",
    "    def __init__(self, modelo, marca, color):\n",
    "        self.modelo = modelo\n",
    "        self.marca = marca\n",
    "        self.color = color\n",
    "        self._estado = 'en_reposo' # Variable privada (no podra interactuar por fuera) \n",
    "        self._motor = Motor(cilindros=4) # privado\n",
    "        \n",
    "    def acelerar(self, tipo = 'despacio'):\n",
    "        if tipo == 'rapida':\n",
    "            self._motor.inyecta_gasolina(10)\n",
    "        else:\n",
    "            self._motor._inyecta_gasolina(3)\n",
    "        self._estado = 'en movimiento'    \n",
    "        \n",
    "class Motor:\n",
    "    \n",
    "    def __init__(self, cilindros, tipo = 'gasolina'):\n",
    "        self.cilindros = cilindros\n",
    "        self.tipo = tipo\n",
    "        self._temperatura = 0\n",
    "        # gasolina no es necesario porque ya se inicio\n",
    "        \n",
    "        def inyecta_gasolina(self, canitdad):\n",
    "            pass # por el momento no hace nada"
   ]
  },
  {
   "cell_type": "markdown",
   "id": "8bec6e43",
   "metadata": {},
   "source": [
    "## Abstraccion"
   ]
  },
  {
   "cell_type": "markdown",
   "id": "7546ccc0",
   "metadata": {},
   "source": [
    "La abstracción es:\n",
    "\n",
    "- Enfocarnos en la información relevante.\n",
    "- Separar la información central de los detalles secundarios.\n",
    "- Podemos utilizar variables y métodos (privados o públicos)."
   ]
  },
  {
   "cell_type": "code",
   "execution_count": 18,
   "id": "b52b6dc9",
   "metadata": {},
   "outputs": [],
   "source": [
    "class Lavadora:\n",
    "    def __init__(self):\n",
    "        pass #por el momento no hay cuerpo en esta funcion\n",
    "    \n",
    "    def lavar(self, temperatura='caliente'):\n",
    "        self._llenar_tanque_de_agua(temperatura)\n",
    "        self._anadir_jabon()\n",
    "        self._lavar()\n",
    "        self._centrifugar()\n",
    "    \n",
    "    def _llenar_tanque_de_agua(self, temperatura):\n",
    "        print(f'Llenando el tanque con agua a {temperatura}')\n",
    "    \n",
    "    def _anadir_jabon(self):\n",
    "        print('Anadiendo Jabon')\n",
    "        \n",
    "    def _lavar(self):\n",
    "        print('Lavando la ropa')\n",
    "        \n",
    "    def _centrifugar(self):\n",
    "        print('Centrifugando')\n",
    "\n",
    "        \n",
    "        "
   ]
  },
  {
   "cell_type": "code",
   "execution_count": 19,
   "id": "00a56991",
   "metadata": {},
   "outputs": [
    {
     "name": "stdout",
     "output_type": "stream",
     "text": [
      "Llenando el tanque con agua a caliente\n",
      "Anadiendo Jabon\n",
      "Lavando la ropa\n",
      "Centrifugando\n"
     ]
    }
   ],
   "source": [
    "lavadora = Lavadora()\n",
    "lavadora.lavar()"
   ]
  },
  {
   "cell_type": "markdown",
   "id": "fc0b4039",
   "metadata": {},
   "source": [
    "## Utilizando getters y setters"
   ]
  },
  {
   "cell_type": "markdown",
   "id": "823874e2",
   "metadata": {},
   "source": [
    "Incluyamos un par de métodos para obtener la distancia y otro para que no acepte valores inferiores a cero, pues no tendría sentido que un vehículo recorra una distancia negativa. Estos son métodos getters y setters:"
   ]
  },
  {
   "cell_type": "code",
   "execution_count": 21,
   "id": "7dcea427",
   "metadata": {},
   "outputs": [],
   "source": [
    "class Millas:\n",
    "\tdef __init__(self, distancia = 0):\n",
    "\t\tself.distancia = distancia\n",
    "\n",
    "\tdef convertir_a_kilometros(self):\n",
    "\t\treturn (self.distancia * 1.609344)\n",
    "\n",
    "\t# Método getter\n",
    "\tdef obtener_distancia(self):\n",
    "\t\treturn self._distancia\n",
    "\n",
    "\t# Método setter\n",
    "\tdef definir_distancia(self, valor):\n",
    "\t\tif valor < 0:\n",
    "\t\t\traise ValueError(\"No es posible convertir distancias menores a 0.\")\n",
    "\t\tself._distancia = valor"
   ]
  },
  {
   "cell_type": "markdown",
   "id": "9ff1a0e4",
   "metadata": {},
   "source": [
    "## Funcion/Decorador Property\n",
    "\n",
    "Esta función está incluida en Python, en particular crea y retorna la propiedad de un objeto. La propiedad de un objeto posee los métodos getter(), setter() y del().\n",
    "\n",
    "En tanto, la función tiene cuatro atributos: property(fget, fset, fdel, fdoc):\n",
    "\n",
    "fget: trae el valor de un atributo.\n",
    "    \n",
    "fset: define el valor de un atributo.\n",
    "    \n",
    "fdel: elimina el valor de un atributo.\n",
    "    \n",
    "fdoc: crea un docstring por atributo"
   ]
  },
  {
   "cell_type": "code",
   "execution_count": 23,
   "id": "4ad67330",
   "metadata": {},
   "outputs": [
    {
     "name": "stdout",
     "output_type": "stream",
     "text": [
      "Llamada al método setter\n"
     ]
    }
   ],
   "source": [
    "class Millas:\n",
    "\tdef __init__(self):\n",
    "\t\tself._distancia = 0\n",
    "\n",
    "\t# Función para obtener el valor de _distancia\n",
    "\tdef obtener_distancia(self):\n",
    "\t\tprint(\"Llamada al método getter\")\n",
    "\t\treturn self._distancia\n",
    "\n",
    "\t# Función para definir el valor de _distancia\n",
    "\tdef definir_distancia(self, recorrido):\n",
    "\t\tprint(\"Llamada al método setter\")\n",
    "\t\tself._distancia = recorrido\n",
    "\n",
    "\t# Función para eliminar el atributo _distancia\n",
    "\tdef eliminar_distancia(self):\n",
    "\t\tdel self._distancia\n",
    "\n",
    "\tdistancia = property(obtener_distancia, definir_distancia, eliminar_distancia)\n",
    "\n",
    "# Creamos un nuevo objeto\n",
    "avion = Millas()\n",
    "\n",
    "# Indicamos la distancia\n",
    "avion.distancia = 200"
   ]
  },
  {
   "cell_type": "code",
   "execution_count": 26,
   "id": "25e998bc",
   "metadata": {},
   "outputs": [
    {
     "name": "stdout",
     "output_type": "stream",
     "text": [
      "Llamada al método getter\n",
      "200\n"
     ]
    }
   ],
   "source": [
    "# Obtenemos su atributo distancia\n",
    "print(avion.distancia)"
   ]
  },
  {
   "cell_type": "markdown",
   "id": "c527d16c",
   "metadata": {},
   "source": [
    "### Decorador @property"
   ]
  },
  {
   "cell_type": "code",
   "execution_count": 27,
   "id": "72b0d433",
   "metadata": {},
   "outputs": [
    {
     "name": "stdout",
     "output_type": "stream",
     "text": [
      "Llamada al método setter\n",
      "Llamada al método getter\n",
      "200\n"
     ]
    }
   ],
   "source": [
    "class Millas:\n",
    "\tdef __init__(self):\n",
    "\t\tself._distancia = 0\n",
    "\n",
    "\t# Función para obtener el valor de _distancia\n",
    "\t# Usando el decorador property\n",
    "\t@property\n",
    "\tdef distancia(self):\n",
    "\t\tprint(\"Llamada al método getter\")\n",
    "\t\treturn self._distancia\n",
    "\n",
    "\t# Función para definir el valor de _distancia\n",
    "\t@distancia.setter\n",
    "\tdef distancia(self, valor):\n",
    "\t\tif valor < 0:\n",
    "\t\t\traise ValueError(\"No es posible convertir distancias menores a 0.\")\n",
    "\t\tprint(\"Llamada al método setter\")\n",
    "\t\tself._distancia = valor\n",
    "\n",
    "# Creamos un nuevo objeto \n",
    "avion = Millas()\n",
    "\n",
    "# Indicamos la distancia\n",
    "avion.distancia = 200\n",
    "\n",
    "# Obtenemos su atributo distancia\n",
    "print(avion.distancia)"
   ]
  },
  {
   "cell_type": "markdown",
   "id": "3e2ed538",
   "metadata": {},
   "source": [
    "**Veamos un ejemplo con helados**"
   ]
  },
  {
   "cell_type": "code",
   "execution_count": 29,
   "id": "0181a665",
   "metadata": {},
   "outputs": [],
   "source": [
    "def helado():       #función que no deseo modificar\n",
    "    print(\"Helado de vainilla\")\n",
    "\n",
    "def chispas_de_chocolate(fun):  #decorador \n",
    "    def run():\n",
    "        fun()           #llamo a función que recibí como parametro      \n",
    "        print('Añadiendo chispas de chocolate') #añado una nueva funcionalidad\n",
    "    return run()        #ejecuto la función run()\n",
    "\n",
    "def chispas_de_colores(fun):  #decorador \n",
    "    def run():\n",
    "        fun()           #llamo a función que recibí como parametro       \n",
    "        print('Añadiendo chispas de colores') #añado una nueva funcionalidad\n",
    "    return run()        #ejecuto la función run()\n",
    "\n"
   ]
  },
  {
   "cell_type": "code",
   "execution_count": 30,
   "id": "7f92da51",
   "metadata": {},
   "outputs": [
    {
     "name": "stdout",
     "output_type": "stream",
     "text": [
      "Helado de vainilla\n",
      "Añadiendo chispas de chocolate\n"
     ]
    }
   ],
   "source": [
    "# sin usar el decorador\n",
    "chispas_de_chocolate(helado)    #sintaxis no prolija / no se recomienda usar :'("
   ]
  },
  {
   "cell_type": "code",
   "execution_count": 34,
   "id": "347741e5",
   "metadata": {},
   "outputs": [
    {
     "name": "stdout",
     "output_type": "stream",
     "text": [
      "Helado de vainilla\n",
      "Añadiendo chispas de chocolate\n"
     ]
    }
   ],
   "source": [
    "# usando la sintaxis para decoradores\n",
    "@chispas_de_chocolate\n",
    "def helado(): \n",
    "    print(\"Helado de vainilla\")"
   ]
  },
  {
   "cell_type": "markdown",
   "id": "a4edd6a5",
   "metadata": {},
   "source": [
    "# Encapsulacion, getters and setters"
   ]
  },
  {
   "cell_type": "code",
   "execution_count": 38,
   "id": "212fae13",
   "metadata": {},
   "outputs": [
    {
     "name": "stdout",
     "output_type": "stream",
     "text": [
      "None\n",
      "Mexico\n"
     ]
    }
   ],
   "source": [
    "class CasillaDeVotacion:\n",
    "    \n",
    "    def __init__(self, identificador, pais):\n",
    "        self._identificador = identificador\n",
    "        self._pais = pais\n",
    "        self._region = None\n",
    "\n",
    "    @property\n",
    "    def region(self):\n",
    "        return self._region\n",
    "\n",
    "    @region.setter\n",
    "    def region(self, region):\n",
    "        if region in self._pais:\n",
    "            self._region = region\n",
    "        else:\n",
    "            raise ValueError(f'La region {region} no esta en la lista')\n",
    "\n",
    "\n",
    "casilla = CasillaDeVotacion(123,['Mexico','Morelos'])\n",
    "print(casilla.region)\n",
    "casilla.region = 'Mexico'\n",
    "print(casilla.region)"
   ]
  },
  {
   "cell_type": "markdown",
   "id": "80820051",
   "metadata": {},
   "source": [
    "# Herencia"
   ]
  },
  {
   "cell_type": "code",
   "execution_count": 8,
   "id": "793d01ad",
   "metadata": {},
   "outputs": [],
   "source": [
    "class Rectangulo:\n",
    "    def __init__(self, base, altura): #constructor\n",
    "        self.base = base\n",
    "        self.altura = altura\n",
    "        \n",
    "    def area(self):\n",
    "        return self.base * self.altura\n",
    "    \n",
    "#Para heredar el comportamiento:    \n",
    "class Cuadrado(Rectangulo): #### La clase cuadrado extiende al rectangulo\n",
    "    \n",
    "    def __init__(self, lado):\n",
    "        super().__init__(lado, lado)    # obtenemos una referencia directa de la superclase y llamar a su constructor\n",
    "        "
   ]
  },
  {
   "cell_type": "code",
   "execution_count": 2,
   "id": "9623def7",
   "metadata": {},
   "outputs": [],
   "source": [
    "if __name__=='main':\n",
    "    rectangulo = Rectangulo(base=3, altura=4)\n",
    "    print(rectangulo.area())"
   ]
  },
  {
   "cell_type": "code",
   "execution_count": 3,
   "id": "c69c6520",
   "metadata": {},
   "outputs": [
    {
     "name": "stdout",
     "output_type": "stream",
     "text": [
      "12\n"
     ]
    }
   ],
   "source": [
    "rectangulo = Rectangulo(base=3, altura=4)\n",
    "print(rectangulo.area())"
   ]
  },
  {
   "cell_type": "code",
   "execution_count": 9,
   "id": "941c3452",
   "metadata": {},
   "outputs": [
    {
     "name": "stdout",
     "output_type": "stream",
     "text": [
      "25\n"
     ]
    }
   ],
   "source": [
    "cuadrado = Cuadrado(lado=5)\n",
    "print(cuadrado.area())"
   ]
  },
  {
   "cell_type": "markdown",
   "id": "410c4337",
   "metadata": {},
   "source": [
    "**Se heredo el metodo area en cuadrado!!**"
   ]
  },
  {
   "cell_type": "markdown",
   "id": "014485a0",
   "metadata": {},
   "source": [
    "# Polimorfismo"
   ]
  },
  {
   "cell_type": "code",
   "execution_count": 11,
   "id": "b1c31350",
   "metadata": {},
   "outputs": [],
   "source": [
    "class Persona:\n",
    "    \n",
    "    def __init__(self, nombre):\n",
    "        self.nombbre = nombre\n",
    "        \n",
    "    def avanza(self): #no recibe parametros\n",
    "        print('Ando caminando')\n",
    "        \n",
    "        \n",
    "        \n",
    "class Ciclista(Persona): # la clase ciclista extiende persona\n",
    "    \n",
    "    def __init__(self, nombre):\n",
    "        super().__init__(nombre)\n",
    "        \n",
    "    def avanza(self): # usamos el mismo nombre que en persona!!!\n",
    "        print('Me estoy moviendo en bicicleta')"
   ]
  },
  {
   "cell_type": "code",
   "execution_count": 12,
   "id": "97a4df54",
   "metadata": {},
   "outputs": [
    {
     "name": "stdout",
     "output_type": "stream",
     "text": [
      "Ando caminando\n"
     ]
    }
   ],
   "source": [
    "persona1 = Persona('David')\n",
    "persona1.avanza()"
   ]
  },
  {
   "cell_type": "code",
   "execution_count": 13,
   "id": "d533fcbf",
   "metadata": {},
   "outputs": [
    {
     "name": "stdout",
     "output_type": "stream",
     "text": [
      "Me estoy moviendo en bicicleta\n"
     ]
    }
   ],
   "source": [
    "ciclista1 = Ciclista('Daniel')\n",
    "ciclista1.avanza()"
   ]
  },
  {
   "cell_type": "markdown",
   "id": "a81ab40a",
   "metadata": {},
   "source": [
    "#### se modifico el comportamiento **avanza**de la clase persona!!"
   ]
  },
  {
   "cell_type": "markdown",
   "id": "a8a7ab7b",
   "metadata": {},
   "source": [
    "# Complejidad Algoritmica"
   ]
  },
  {
   "cell_type": "code",
   "execution_count": 15,
   "id": "7677ce9f",
   "metadata": {},
   "outputs": [],
   "source": [
    "import time"
   ]
  },
  {
   "cell_type": "code",
   "execution_count": 17,
   "id": "48d3d05b",
   "metadata": {},
   "outputs": [],
   "source": [
    "def factorial(n):\n",
    "    respuesta = 1\n",
    "    \n",
    "    while n>1:\n",
    "        respuesta *= n\n",
    "        n -=1\n",
    "     \n",
    "    return respuesta\n",
    "\n",
    "def factorial_recursion(n): # usando recursion\n",
    "    if n==1:\n",
    "        return 1\n",
    "    \n",
    "    return n * factorial_recursion(n-1)"
   ]
  },
  {
   "cell_type": "code",
   "execution_count": 65,
   "id": "66cf0a24",
   "metadata": {},
   "outputs": [
    {
     "name": "stdout",
     "output_type": "stream",
     "text": [
      "5000\n"
     ]
    }
   ],
   "source": [
    "import sys\n",
    "print(sys.getrecursionlimit())"
   ]
  },
  {
   "cell_type": "code",
   "execution_count": 66,
   "id": "e5e13fc7",
   "metadata": {},
   "outputs": [],
   "source": [
    "n=4000\n",
    "sys.setrecursionlimit(5000)"
   ]
  },
  {
   "cell_type": "code",
   "execution_count": 67,
   "id": "924d12c4",
   "metadata": {},
   "outputs": [
    {
     "name": "stdout",
     "output_type": "stream",
     "text": [
      "0.005600929260253906\n"
     ]
    }
   ],
   "source": [
    "comienzo = time.time() #adentro del modulo time hay una fiuncion llamada time\n",
    "factorial(n)\n",
    "final = time.time()\n",
    "print(final - comienzo)\n"
   ]
  },
  {
   "cell_type": "code",
   "execution_count": 70,
   "id": "acea4e51",
   "metadata": {},
   "outputs": [
    {
     "name": "stdout",
     "output_type": "stream",
     "text": [
      "0.0062465667724609375\n"
     ]
    }
   ],
   "source": [
    "comienzo = time.time() #adentro del modulo time hay una fiuncion llamada time\n",
    "factorial_recursion(n)\n",
    "final = time.time()\n",
    "print(final - comienzo)"
   ]
  },
  {
   "cell_type": "markdown",
   "id": "4e3ba6c3",
   "metadata": {},
   "source": [
    "# Big O Notation (Notacion Asintotica)"
   ]
  },
  {
   "cell_type": "markdown",
   "id": "fca382f7",
   "metadata": {},
   "source": [
    "Existen distintos tipos de complejidad algorítmica:\n",
    "\n",
    "- O(1) Constante: no importa la cantidad de input que reciba, siempre demorara el mismo tiempo.\n",
    "- O(n) Lineal: la complejidad crecerá de forma proporcional a medida que crezca el input.\n",
    "- O(log n) Logarítmica: nuestra función crecerá de forma logarítmica con respecto al input. Esto significa que en un inicio crecerá rápido, pero luego se estabilizara.\n",
    "- O(n log n) Log lineal: crecerá de forma logarítmica pero junto con una constante.\n",
    "- O(n²) Polinomial: crecen de forma cuadrática. No son recomendables a menos que el input de datos en pequeño.\n",
    "- O(2^n) Exponencial: crecerá de forma exponencial, por lo que la carga es muy alta. Para nada recomendable en ningún caso, solo para análisis conceptual.\n",
    "- O(n!) Factorial: crece de forma factorial, por lo que al igual que el exponencial su carga es muy alta, por lo que jamas utilizar algoritmos de este tipo.\n"
   ]
  },
  {
   "cell_type": "markdown",
   "id": "76420e7c",
   "metadata": {},
   "source": [
    "![Logo de OpenAI](https://openai.com/assets/images/openai-logo-dual.png)\n"
   ]
  },
  {
   "cell_type": "markdown",
   "id": "567b68f6",
   "metadata": {},
   "source": [
    "# Busqueda lineal"
   ]
  },
  {
   "cell_type": "code",
   "execution_count": 75,
   "id": "89627ecf",
   "metadata": {},
   "outputs": [
    {
     "name": "stdout",
     "output_type": "stream",
     "text": [
      "De que tamano sera la lista? 10\n",
      "Que numero quieres encontrar? 5\n",
      "[5, 59, 70, 6, 17, 78, 53, 48, 76, 82]\n",
      "El elemento 5 esta en la lista\n"
     ]
    }
   ],
   "source": [
    "import random\n",
    "\n",
    "def busqueda_lineal(lista, objetivo):\n",
    "    match = False\n",
    "\n",
    "    for elemento in lista:          # O(n)\n",
    "        if elemento == objetivo:\n",
    "            match = True\n",
    "            break\n",
    "\n",
    "    return match\n",
    "\n",
    "\n",
    "tamano_de_lista = int(input('De que tamano sera la lista? '))\n",
    "objetivo = int(input('Que numero quieres encontrar? '))\n",
    "\n",
    "lista = [random.randint(0, 100) for i in range(tamano_de_lista)]\n",
    "\n",
    "encontrado = busqueda_lineal(lista, objetivo)\n",
    "print(lista)\n",
    "print(f'El elemento {objetivo} {\"esta\" if encontrado else \"no esta\"} en la lista')"
   ]
  },
  {
   "cell_type": "markdown",
   "id": "4b4aab5d",
   "metadata": {},
   "source": [
    "# Busqueda binaria"
   ]
  },
  {
   "cell_type": "markdown",
   "id": "bb665e31",
   "metadata": {},
   "source": [
    "La búsqueda binaria toma una estrategia llamada “Divide y conquista”, la cual consiste en dividir el problema en 2 en cada iteración. Este algoritmo asume que la lista se encuentra ordenada, por lo que es necesario realizar este paso primero.\n",
    "\n",
    "La búsqueda binaria es uno de los mejores algoritmos que se tienen hoy en día para búsqueda, ya que reduce significativamente el numero de pasos, y así disminuyendo nuestro Big O."
   ]
  },
  {
   "cell_type": "markdown",
   "id": "5c859610",
   "metadata": {},
   "source": [
    "** Se encesita una lista ordenada!!!!!**"
   ]
  },
  {
   "cell_type": "code",
   "execution_count": 81,
   "id": "16680ce7",
   "metadata": {},
   "outputs": [],
   "source": [
    "def busqueda_binaria(lista, comienzo, final, objetivo,iter_bin=0):\n",
    "    iter_bin+=1\n",
    "    if comienzo > final:\n",
    "        return (False,iter_bin)\n",
    "\n",
    "    medio = (comienzo + final) // 2\n",
    "\n",
    "    if lista[medio] == objetivo:\n",
    "        return (True,iter_bin)\n",
    "    elif lista[medio] < objetivo:\n",
    "        return busqueda_binaria(lista, medio + 1, final, objetivo,iter_bin=iter_bin)\n",
    "    else:\n",
    "        return busqueda_binaria(lista, comienzo, medio - 1, objetivo,iter_bin=iter_bin)\n",
    "\n",
    "def busqueda_lineal(lista, objetivo,iter_lin=0):\n",
    "    match = False\n",
    "\n",
    "    for elemento in lista:\n",
    "        iter_lin+=1\n",
    "        if elemento == objetivo:\n",
    "            match = True\n",
    "            break\n",
    "\n",
    "    return (match,iter_lin)"
   ]
  },
  {
   "cell_type": "code",
   "execution_count": 82,
   "id": "8c4c01c6",
   "metadata": {},
   "outputs": [
    {
     "name": "stdout",
     "output_type": "stream",
     "text": [
      "De que tamaño es la lista? 1000\n",
      "¿Qué número quieres encontrar? 5\n",
      "El elemento 5 esta en la lista\n",
      "Iteraciones busqueda lineal: 54\n",
      "Iteraciones busqueda binaria: 7\n"
     ]
    }
   ],
   "source": [
    "tamano_de_lista = int(input('De que tamaño es la lista? '))\n",
    "objetivo = int(input('¿Qué número quieres encontrar? '))\n",
    "\n",
    "lista = sorted([random.randint(0, 100) for i in range(tamano_de_lista)])\n",
    "\n",
    "(encontrado,iter_bin) = busqueda_binaria(lista, 0, len(lista), objetivo)\n",
    "(encontrado,iter_lin) = busqueda_lineal(lista, objetivo)\n",
    "\n",
    "#print(lista)\n",
    "print(f'El elemento {objetivo} {\"esta\" if encontrado else \"no esta\"} en la lista')\n",
    "print(f'Iteraciones busqueda lineal: {iter_lin}')\n",
    "print(f'Iteraciones busqueda binaria: {iter_bin}')"
   ]
  },
  {
   "cell_type": "markdown",
   "id": "b2052e2a",
   "metadata": {},
   "source": [
    "# Ordenamiento de burbuja (Bubble sort)"
   ]
  },
  {
   "cell_type": "code",
   "execution_count": 85,
   "id": "15d33c24",
   "metadata": {},
   "outputs": [
    {
     "name": "stdout",
     "output_type": "stream",
     "text": [
      "De que tamano sera la lista? 100\n",
      "[36, 63, 63, 45, 56, 26, 4, 32, 4, 100, 8, 61, 96, 1, 12, 93, 21, 56, 92, 96, 82, 80, 45, 91, 24, 24, 43, 12, 79, 5, 58, 28, 16, 98, 19, 3, 85, 49, 3, 5, 84, 85, 84, 86, 8, 32, 88, 28, 67, 78, 91, 5, 25, 13, 87, 27, 63, 53, 35, 55, 44, 10, 44, 60, 75, 52, 83, 95, 16, 88, 70, 79, 27, 89, 6, 73, 81, 20, 8, 62, 2, 29, 74, 51, 69, 99, 8, 65, 22, 40, 79, 69, 49, 17, 95, 7, 91, 11, 94, 54]\n",
      "[1, 2, 3, 3, 4, 4, 5, 5, 5, 6, 7, 8, 8, 8, 8, 10, 11, 12, 12, 13, 16, 16, 17, 19, 20, 21, 22, 24, 24, 25, 26, 27, 27, 28, 28, 29, 32, 32, 35, 36, 40, 43, 44, 44, 45, 45, 49, 49, 51, 52, 53, 54, 55, 56, 56, 58, 60, 61, 62, 63, 63, 63, 65, 67, 69, 69, 70, 73, 74, 75, 78, 79, 79, 79, 80, 81, 82, 83, 84, 84, 85, 85, 86, 87, 88, 88, 89, 91, 91, 91, 92, 93, 94, 95, 95, 96, 96, 98, 99, 100]\n"
     ]
    }
   ],
   "source": [
    "import random\n",
    "\n",
    "\n",
    "def ordenamiento_de_burbuja(lista):\n",
    "    n = len(lista)\n",
    "\n",
    "    for i in range(n):\n",
    "        for j in range(0, n - i - 1): # O(n) * O(n) = O(n * n) = O(n**2)\n",
    "\n",
    "            if lista[j] > lista[j + 1]:\n",
    "                lista[j], lista[j + 1] = lista[j + 1], lista[j]\n",
    "\n",
    "    return lista\n",
    "\n",
    "\n",
    "tamano_de_lista = int(input('De que tamano sera la lista? '))\n",
    "\n",
    "lista = [random.randint(0, 100) for i in range(tamano_de_lista)]\n",
    "print(lista)\n",
    "\n",
    "lista_ordenada = ordenamiento_de_burbuja(lista)\n",
    "print(lista_ordenada)"
   ]
  },
  {
   "cell_type": "markdown",
   "id": "0aa88f85",
   "metadata": {},
   "source": [
    "# Ordenamiento por insercion"
   ]
  },
  {
   "cell_type": "code",
   "execution_count": 89,
   "id": "16acb2ef",
   "metadata": {},
   "outputs": [],
   "source": [
    "def ordenamiento_por_insercion(lista):\n",
    "\n",
    "    for indice in range(1, len(lista)):\n",
    "        valor_actual = lista[indice]\n",
    "        posicion_actual = indice\n",
    "\n",
    "        while posicion_actual > 0 and lista[posicion_actual - 1] > valor_actual:\n",
    "            lista[posicion_actual] = lista[posicion_actual - 1]\n",
    "            posicion_actual -= 1\n",
    "\n",
    "        lista[posicion_actual] = valor_actual\n",
    "    return lista    "
   ]
  },
  {
   "cell_type": "code",
   "execution_count": 90,
   "id": "45205da1",
   "metadata": {
    "collapsed": true
   },
   "outputs": [
    {
     "name": "stdout",
     "output_type": "stream",
     "text": [
      "De que tamano sera la lista? 100\n",
      "[78, 8, 96, 70, 31, 15, 63, 9, 100, 39, 54, 19, 60, 52, 54, 96, 61, 73, 31, 49, 32, 55, 18, 91, 67, 55, 8, 0, 39, 65, 29, 41, 62, 99, 56, 23, 37, 41, 30, 19, 57, 25, 90, 92, 88, 61, 45, 51, 99, 5, 30, 96, 52, 16, 12, 49, 81, 20, 64, 15, 47, 5, 89, 86, 20, 68, 58, 81, 77, 89, 13, 57, 32, 38, 33, 2, 80, 58, 10, 8, 52, 11, 100, 63, 0, 16, 97, 90, 39, 98, 69, 87, 10, 81, 16, 2, 40, 61, 51, 89]\n"
     ]
    },
    {
     "data": {
      "text/plain": [
       "[0,\n",
       " 0,\n",
       " 2,\n",
       " 2,\n",
       " 5,\n",
       " 5,\n",
       " 8,\n",
       " 8,\n",
       " 8,\n",
       " 9,\n",
       " 10,\n",
       " 10,\n",
       " 11,\n",
       " 12,\n",
       " 13,\n",
       " 15,\n",
       " 15,\n",
       " 16,\n",
       " 16,\n",
       " 16,\n",
       " 18,\n",
       " 19,\n",
       " 19,\n",
       " 20,\n",
       " 20,\n",
       " 23,\n",
       " 25,\n",
       " 29,\n",
       " 30,\n",
       " 30,\n",
       " 31,\n",
       " 31,\n",
       " 32,\n",
       " 32,\n",
       " 33,\n",
       " 37,\n",
       " 38,\n",
       " 39,\n",
       " 39,\n",
       " 39,\n",
       " 40,\n",
       " 41,\n",
       " 41,\n",
       " 45,\n",
       " 47,\n",
       " 49,\n",
       " 49,\n",
       " 51,\n",
       " 51,\n",
       " 52,\n",
       " 52,\n",
       " 52,\n",
       " 54,\n",
       " 54,\n",
       " 55,\n",
       " 55,\n",
       " 56,\n",
       " 57,\n",
       " 57,\n",
       " 58,\n",
       " 58,\n",
       " 60,\n",
       " 61,\n",
       " 61,\n",
       " 61,\n",
       " 62,\n",
       " 63,\n",
       " 63,\n",
       " 64,\n",
       " 65,\n",
       " 67,\n",
       " 68,\n",
       " 69,\n",
       " 70,\n",
       " 73,\n",
       " 77,\n",
       " 78,\n",
       " 80,\n",
       " 81,\n",
       " 81,\n",
       " 81,\n",
       " 86,\n",
       " 87,\n",
       " 88,\n",
       " 89,\n",
       " 89,\n",
       " 89,\n",
       " 90,\n",
       " 90,\n",
       " 91,\n",
       " 92,\n",
       " 96,\n",
       " 96,\n",
       " 96,\n",
       " 97,\n",
       " 98,\n",
       " 99,\n",
       " 99,\n",
       " 100,\n",
       " 100]"
      ]
     },
     "execution_count": 90,
     "metadata": {},
     "output_type": "execute_result"
    }
   ],
   "source": [
    "tamano_de_lista = int(input('De que tamano sera la lista? '))\n",
    "\n",
    "lista = [random.randint(0, 100) for i in range(tamano_de_lista)]\n",
    "print(lista)\n",
    "ordenamiento_por_insercion(lista)"
   ]
  },
  {
   "cell_type": "markdown",
   "id": "a6207eee",
   "metadata": {},
   "source": [
    "# Ordenamiento por mezcla"
   ]
  },
  {
   "cell_type": "code",
   "execution_count": 93,
   "id": "fdb2b9c9",
   "metadata": {},
   "outputs": [
    {
     "name": "stdout",
     "output_type": "stream",
     "text": [
      "De que tamano sera la lista? 100\n",
      "[34, 74, 24, 58, 0, 30, 25, 88, 92, 15, 82, 14, 1, 100, 65, 81, 74, 27, 27, 46, 64, 53, 2, 87, 68, 89, 23, 54, 92, 58, 26, 25, 27, 56, 94, 10, 29, 10, 57, 0, 66, 65, 9, 17, 8, 63, 1, 100, 5, 65, 63, 73, 4, 92, 92, 31, 34, 36, 4, 84, 22, 17, 65, 13, 75, 25, 39, 22, 25, 7, 82, 22, 54, 15, 94, 85, 50, 62, 31, 19, 1, 31, 74, 23, 90, 98, 36, 70, 24, 87, 90, 79, 79, 42, 58, 12, 33, 39, 51, 6]\n",
      "--------------------\n",
      "[34, 74, 24, 58, 0, 30, 25, 88, 92, 15, 82, 14, 1, 100, 65, 81, 74, 27, 27, 46, 64, 53, 2, 87, 68, 89, 23, 54, 92, 58, 26, 25, 27, 56, 94, 10, 29, 10, 57, 0, 66, 65, 9, 17, 8, 63, 1, 100, 5, 65] ***** [63, 73, 4, 92, 92, 31, 34, 36, 4, 84, 22, 17, 65, 13, 75, 25, 39, 22, 25, 7, 82, 22, 54, 15, 94, 85, 50, 62, 31, 19, 1, 31, 74, 23, 90, 98, 36, 70, 24, 87, 90, 79, 79, 42, 58, 12, 33, 39, 51, 6]\n",
      "[34, 74, 24, 58, 0, 30, 25, 88, 92, 15, 82, 14, 1, 100, 65, 81, 74, 27, 27, 46, 64, 53, 2, 87, 68] ***** [89, 23, 54, 92, 58, 26, 25, 27, 56, 94, 10, 29, 10, 57, 0, 66, 65, 9, 17, 8, 63, 1, 100, 5, 65]\n",
      "[34, 74, 24, 58, 0, 30, 25, 88, 92, 15, 82, 14] ***** [1, 100, 65, 81, 74, 27, 27, 46, 64, 53, 2, 87, 68]\n",
      "[34, 74, 24, 58, 0, 30] ***** [25, 88, 92, 15, 82, 14]\n",
      "[34, 74, 24] ***** [58, 0, 30]\n",
      "[34] ***** [74, 24]\n",
      "[74] ***** [24]\n",
      "izquierda [74], derecha [24]\n",
      "[24, 74]\n",
      "--------------------------------------------------\n",
      "izquierda [34], derecha [24, 74]\n",
      "[24, 34, 74]\n",
      "--------------------------------------------------\n",
      "[58] ***** [0, 30]\n",
      "[0] ***** [30]\n",
      "izquierda [0], derecha [30]\n",
      "[0, 30]\n",
      "--------------------------------------------------\n",
      "izquierda [58], derecha [0, 30]\n",
      "[0, 30, 58]\n",
      "--------------------------------------------------\n",
      "izquierda [24, 34, 74], derecha [0, 30, 58]\n",
      "[0, 24, 30, 34, 58, 74]\n",
      "--------------------------------------------------\n",
      "[25, 88, 92] ***** [15, 82, 14]\n",
      "[25] ***** [88, 92]\n",
      "[88] ***** [92]\n",
      "izquierda [88], derecha [92]\n",
      "[88, 92]\n",
      "--------------------------------------------------\n",
      "izquierda [25], derecha [88, 92]\n",
      "[25, 88, 92]\n",
      "--------------------------------------------------\n",
      "[15] ***** [82, 14]\n",
      "[82] ***** [14]\n",
      "izquierda [82], derecha [14]\n",
      "[14, 82]\n",
      "--------------------------------------------------\n",
      "izquierda [15], derecha [14, 82]\n",
      "[14, 15, 82]\n",
      "--------------------------------------------------\n",
      "izquierda [25, 88, 92], derecha [14, 15, 82]\n",
      "[14, 15, 25, 82, 88, 92]\n",
      "--------------------------------------------------\n",
      "izquierda [0, 24, 30, 34, 58, 74], derecha [14, 15, 25, 82, 88, 92]\n",
      "[0, 14, 15, 24, 25, 30, 34, 58, 74, 82, 88, 92]\n",
      "--------------------------------------------------\n",
      "[1, 100, 65, 81, 74, 27] ***** [27, 46, 64, 53, 2, 87, 68]\n",
      "[1, 100, 65] ***** [81, 74, 27]\n",
      "[1] ***** [100, 65]\n",
      "[100] ***** [65]\n",
      "izquierda [100], derecha [65]\n",
      "[65, 100]\n",
      "--------------------------------------------------\n",
      "izquierda [1], derecha [65, 100]\n",
      "[1, 65, 100]\n",
      "--------------------------------------------------\n",
      "[81] ***** [74, 27]\n",
      "[74] ***** [27]\n",
      "izquierda [74], derecha [27]\n",
      "[27, 74]\n",
      "--------------------------------------------------\n",
      "izquierda [81], derecha [27, 74]\n",
      "[27, 74, 81]\n",
      "--------------------------------------------------\n",
      "izquierda [1, 65, 100], derecha [27, 74, 81]\n",
      "[1, 27, 65, 74, 81, 100]\n",
      "--------------------------------------------------\n",
      "[27, 46, 64] ***** [53, 2, 87, 68]\n",
      "[27] ***** [46, 64]\n",
      "[46] ***** [64]\n",
      "izquierda [46], derecha [64]\n",
      "[46, 64]\n",
      "--------------------------------------------------\n",
      "izquierda [27], derecha [46, 64]\n",
      "[27, 46, 64]\n",
      "--------------------------------------------------\n",
      "[53, 2] ***** [87, 68]\n",
      "[53] ***** [2]\n",
      "izquierda [53], derecha [2]\n",
      "[2, 53]\n",
      "--------------------------------------------------\n",
      "[87] ***** [68]\n",
      "izquierda [87], derecha [68]\n",
      "[68, 87]\n",
      "--------------------------------------------------\n",
      "izquierda [2, 53], derecha [68, 87]\n",
      "[2, 53, 68, 87]\n",
      "--------------------------------------------------\n",
      "izquierda [27, 46, 64], derecha [2, 53, 68, 87]\n",
      "[2, 27, 46, 53, 64, 68, 87]\n",
      "--------------------------------------------------\n",
      "izquierda [1, 27, 65, 74, 81, 100], derecha [2, 27, 46, 53, 64, 68, 87]\n",
      "[1, 2, 27, 27, 46, 53, 64, 65, 68, 74, 81, 87, 100]\n",
      "--------------------------------------------------\n",
      "izquierda [0, 14, 15, 24, 25, 30, 34, 58, 74, 82, 88, 92], derecha [1, 2, 27, 27, 46, 53, 64, 65, 68, 74, 81, 87, 100]\n",
      "[0, 1, 2, 14, 15, 24, 25, 27, 27, 30, 34, 46, 53, 58, 64, 65, 68, 74, 74, 81, 82, 87, 88, 92, 100]\n",
      "--------------------------------------------------\n",
      "[89, 23, 54, 92, 58, 26, 25, 27, 56, 94, 10, 29] ***** [10, 57, 0, 66, 65, 9, 17, 8, 63, 1, 100, 5, 65]\n",
      "[89, 23, 54, 92, 58, 26] ***** [25, 27, 56, 94, 10, 29]\n",
      "[89, 23, 54] ***** [92, 58, 26]\n",
      "[89] ***** [23, 54]\n",
      "[23] ***** [54]\n",
      "izquierda [23], derecha [54]\n",
      "[23, 54]\n",
      "--------------------------------------------------\n",
      "izquierda [89], derecha [23, 54]\n",
      "[23, 54, 89]\n",
      "--------------------------------------------------\n",
      "[92] ***** [58, 26]\n",
      "[58] ***** [26]\n",
      "izquierda [58], derecha [26]\n",
      "[26, 58]\n",
      "--------------------------------------------------\n",
      "izquierda [92], derecha [26, 58]\n",
      "[26, 58, 92]\n",
      "--------------------------------------------------\n",
      "izquierda [23, 54, 89], derecha [26, 58, 92]\n",
      "[23, 26, 54, 58, 89, 92]\n",
      "--------------------------------------------------\n",
      "[25, 27, 56] ***** [94, 10, 29]\n",
      "[25] ***** [27, 56]\n",
      "[27] ***** [56]\n",
      "izquierda [27], derecha [56]\n",
      "[27, 56]\n",
      "--------------------------------------------------\n",
      "izquierda [25], derecha [27, 56]\n",
      "[25, 27, 56]\n",
      "--------------------------------------------------\n",
      "[94] ***** [10, 29]\n",
      "[10] ***** [29]\n",
      "izquierda [10], derecha [29]\n",
      "[10, 29]\n",
      "--------------------------------------------------\n",
      "izquierda [94], derecha [10, 29]\n",
      "[10, 29, 94]\n",
      "--------------------------------------------------\n",
      "izquierda [25, 27, 56], derecha [10, 29, 94]\n",
      "[10, 25, 27, 29, 56, 94]\n",
      "--------------------------------------------------\n",
      "izquierda [23, 26, 54, 58, 89, 92], derecha [10, 25, 27, 29, 56, 94]\n",
      "[10, 23, 25, 26, 27, 29, 54, 56, 58, 89, 92, 94]\n",
      "--------------------------------------------------\n",
      "[10, 57, 0, 66, 65, 9] ***** [17, 8, 63, 1, 100, 5, 65]\n",
      "[10, 57, 0] ***** [66, 65, 9]\n",
      "[10] ***** [57, 0]\n",
      "[57] ***** [0]\n",
      "izquierda [57], derecha [0]\n",
      "[0, 57]\n",
      "--------------------------------------------------\n",
      "izquierda [10], derecha [0, 57]\n",
      "[0, 10, 57]\n",
      "--------------------------------------------------\n",
      "[66] ***** [65, 9]\n",
      "[65] ***** [9]\n",
      "izquierda [65], derecha [9]\n",
      "[9, 65]\n",
      "--------------------------------------------------\n",
      "izquierda [66], derecha [9, 65]\n",
      "[9, 65, 66]\n",
      "--------------------------------------------------\n",
      "izquierda [0, 10, 57], derecha [9, 65, 66]\n",
      "[0, 9, 10, 57, 65, 66]\n",
      "--------------------------------------------------\n",
      "[17, 8, 63] ***** [1, 100, 5, 65]\n",
      "[17] ***** [8, 63]\n",
      "[8] ***** [63]\n",
      "izquierda [8], derecha [63]\n",
      "[8, 63]\n",
      "--------------------------------------------------\n",
      "izquierda [17], derecha [8, 63]\n",
      "[8, 17, 63]\n",
      "--------------------------------------------------\n",
      "[1, 100] ***** [5, 65]\n",
      "[1] ***** [100]\n",
      "izquierda [1], derecha [100]\n",
      "[1, 100]\n",
      "--------------------------------------------------\n",
      "[5] ***** [65]\n",
      "izquierda [5], derecha [65]\n",
      "[5, 65]\n",
      "--------------------------------------------------\n",
      "izquierda [1, 100], derecha [5, 65]\n",
      "[1, 5, 65, 100]\n",
      "--------------------------------------------------\n",
      "izquierda [8, 17, 63], derecha [1, 5, 65, 100]\n",
      "[1, 5, 8, 17, 63, 65, 100]\n",
      "--------------------------------------------------\n",
      "izquierda [0, 9, 10, 57, 65, 66], derecha [1, 5, 8, 17, 63, 65, 100]\n",
      "[0, 1, 5, 8, 9, 10, 17, 57, 63, 65, 65, 66, 100]\n",
      "--------------------------------------------------\n",
      "izquierda [10, 23, 25, 26, 27, 29, 54, 56, 58, 89, 92, 94], derecha [0, 1, 5, 8, 9, 10, 17, 57, 63, 65, 65, 66, 100]\n",
      "[0, 1, 5, 8, 9, 10, 10, 17, 23, 25, 26, 27, 29, 54, 56, 57, 58, 63, 65, 65, 66, 89, 92, 94, 100]\n",
      "--------------------------------------------------\n",
      "izquierda [0, 1, 2, 14, 15, 24, 25, 27, 27, 30, 34, 46, 53, 58, 64, 65, 68, 74, 74, 81, 82, 87, 88, 92, 100], derecha [0, 1, 5, 8, 9, 10, 10, 17, 23, 25, 26, 27, 29, 54, 56, 57, 58, 63, 65, 65, 66, 89, 92, 94, 100]\n",
      "[0, 0, 1, 1, 2, 5, 8, 9, 10, 10, 14, 15, 17, 23, 24, 25, 25, 26, 27, 27, 27, 29, 30, 34, 46, 53, 54, 56, 57, 58, 58, 63, 64, 65, 65, 65, 66, 68, 74, 74, 81, 82, 87, 88, 89, 92, 92, 94, 100, 100]\n",
      "--------------------------------------------------\n",
      "[63, 73, 4, 92, 92, 31, 34, 36, 4, 84, 22, 17, 65, 13, 75, 25, 39, 22, 25, 7, 82, 22, 54, 15, 94] ***** [85, 50, 62, 31, 19, 1, 31, 74, 23, 90, 98, 36, 70, 24, 87, 90, 79, 79, 42, 58, 12, 33, 39, 51, 6]\n",
      "[63, 73, 4, 92, 92, 31, 34, 36, 4, 84, 22, 17] ***** [65, 13, 75, 25, 39, 22, 25, 7, 82, 22, 54, 15, 94]\n",
      "[63, 73, 4, 92, 92, 31] ***** [34, 36, 4, 84, 22, 17]\n",
      "[63, 73, 4] ***** [92, 92, 31]\n",
      "[63] ***** [73, 4]\n",
      "[73] ***** [4]\n",
      "izquierda [73], derecha [4]\n",
      "[4, 73]\n",
      "--------------------------------------------------\n",
      "izquierda [63], derecha [4, 73]\n",
      "[4, 63, 73]\n",
      "--------------------------------------------------\n",
      "[92] ***** [92, 31]\n",
      "[92] ***** [31]\n",
      "izquierda [92], derecha [31]\n",
      "[31, 92]\n",
      "--------------------------------------------------\n",
      "izquierda [92], derecha [31, 92]\n",
      "[31, 92, 92]\n",
      "--------------------------------------------------\n",
      "izquierda [4, 63, 73], derecha [31, 92, 92]\n",
      "[4, 31, 63, 73, 92, 92]\n",
      "--------------------------------------------------\n",
      "[34, 36, 4] ***** [84, 22, 17]\n",
      "[34] ***** [36, 4]\n",
      "[36] ***** [4]\n",
      "izquierda [36], derecha [4]\n",
      "[4, 36]\n",
      "--------------------------------------------------\n",
      "izquierda [34], derecha [4, 36]\n",
      "[4, 34, 36]\n",
      "--------------------------------------------------\n",
      "[84] ***** [22, 17]\n",
      "[22] ***** [17]\n",
      "izquierda [22], derecha [17]\n",
      "[17, 22]\n",
      "--------------------------------------------------\n",
      "izquierda [84], derecha [17, 22]\n",
      "[17, 22, 84]\n",
      "--------------------------------------------------\n",
      "izquierda [4, 34, 36], derecha [17, 22, 84]\n",
      "[4, 17, 22, 34, 36, 84]\n",
      "--------------------------------------------------\n",
      "izquierda [4, 31, 63, 73, 92, 92], derecha [4, 17, 22, 34, 36, 84]\n",
      "[4, 4, 17, 22, 31, 34, 36, 63, 73, 84, 92, 92]\n",
      "--------------------------------------------------\n",
      "[65, 13, 75, 25, 39, 22] ***** [25, 7, 82, 22, 54, 15, 94]\n",
      "[65, 13, 75] ***** [25, 39, 22]\n",
      "[65] ***** [13, 75]\n",
      "[13] ***** [75]\n",
      "izquierda [13], derecha [75]\n",
      "[13, 75]\n",
      "--------------------------------------------------\n",
      "izquierda [65], derecha [13, 75]\n",
      "[13, 65, 75]\n",
      "--------------------------------------------------\n",
      "[25] ***** [39, 22]\n",
      "[39] ***** [22]\n",
      "izquierda [39], derecha [22]\n",
      "[22, 39]\n",
      "--------------------------------------------------\n",
      "izquierda [25], derecha [22, 39]\n",
      "[22, 25, 39]\n",
      "--------------------------------------------------\n",
      "izquierda [13, 65, 75], derecha [22, 25, 39]\n",
      "[13, 22, 25, 39, 65, 75]\n",
      "--------------------------------------------------\n",
      "[25, 7, 82] ***** [22, 54, 15, 94]\n",
      "[25] ***** [7, 82]\n",
      "[7] ***** [82]\n",
      "izquierda [7], derecha [82]\n",
      "[7, 82]\n",
      "--------------------------------------------------\n",
      "izquierda [25], derecha [7, 82]\n",
      "[7, 25, 82]\n",
      "--------------------------------------------------\n",
      "[22, 54] ***** [15, 94]\n",
      "[22] ***** [54]\n",
      "izquierda [22], derecha [54]\n",
      "[22, 54]\n",
      "--------------------------------------------------\n",
      "[15] ***** [94]\n",
      "izquierda [15], derecha [94]\n",
      "[15, 94]\n",
      "--------------------------------------------------\n",
      "izquierda [22, 54], derecha [15, 94]\n",
      "[15, 22, 54, 94]\n",
      "--------------------------------------------------\n",
      "izquierda [7, 25, 82], derecha [15, 22, 54, 94]\n",
      "[7, 15, 22, 25, 54, 82, 94]\n",
      "--------------------------------------------------\n",
      "izquierda [13, 22, 25, 39, 65, 75], derecha [7, 15, 22, 25, 54, 82, 94]\n",
      "[7, 13, 15, 22, 22, 25, 25, 39, 54, 65, 75, 82, 94]\n",
      "--------------------------------------------------\n",
      "izquierda [4, 4, 17, 22, 31, 34, 36, 63, 73, 84, 92, 92], derecha [7, 13, 15, 22, 22, 25, 25, 39, 54, 65, 75, 82, 94]\n",
      "[4, 4, 7, 13, 15, 17, 22, 22, 22, 25, 25, 31, 34, 36, 39, 54, 63, 65, 73, 75, 82, 84, 92, 92, 94]\n",
      "--------------------------------------------------\n",
      "[85, 50, 62, 31, 19, 1, 31, 74, 23, 90, 98, 36] ***** [70, 24, 87, 90, 79, 79, 42, 58, 12, 33, 39, 51, 6]\n",
      "[85, 50, 62, 31, 19, 1] ***** [31, 74, 23, 90, 98, 36]\n",
      "[85, 50, 62] ***** [31, 19, 1]\n",
      "[85] ***** [50, 62]\n",
      "[50] ***** [62]\n",
      "izquierda [50], derecha [62]\n",
      "[50, 62]\n",
      "--------------------------------------------------\n",
      "izquierda [85], derecha [50, 62]\n",
      "[50, 62, 85]\n",
      "--------------------------------------------------\n",
      "[31] ***** [19, 1]\n",
      "[19] ***** [1]\n",
      "izquierda [19], derecha [1]\n",
      "[1, 19]\n",
      "--------------------------------------------------\n",
      "izquierda [31], derecha [1, 19]\n",
      "[1, 19, 31]\n",
      "--------------------------------------------------\n",
      "izquierda [50, 62, 85], derecha [1, 19, 31]\n",
      "[1, 19, 31, 50, 62, 85]\n",
      "--------------------------------------------------\n",
      "[31, 74, 23] ***** [90, 98, 36]\n",
      "[31] ***** [74, 23]\n",
      "[74] ***** [23]\n",
      "izquierda [74], derecha [23]\n",
      "[23, 74]\n",
      "--------------------------------------------------\n",
      "izquierda [31], derecha [23, 74]\n",
      "[23, 31, 74]\n",
      "--------------------------------------------------\n",
      "[90] ***** [98, 36]\n",
      "[98] ***** [36]\n",
      "izquierda [98], derecha [36]\n",
      "[36, 98]\n",
      "--------------------------------------------------\n",
      "izquierda [90], derecha [36, 98]\n",
      "[36, 90, 98]\n",
      "--------------------------------------------------\n",
      "izquierda [23, 31, 74], derecha [36, 90, 98]\n",
      "[23, 31, 36, 74, 90, 98]\n",
      "--------------------------------------------------\n",
      "izquierda [1, 19, 31, 50, 62, 85], derecha [23, 31, 36, 74, 90, 98]\n",
      "[1, 19, 23, 31, 31, 36, 50, 62, 74, 85, 90, 98]\n",
      "--------------------------------------------------\n",
      "[70, 24, 87, 90, 79, 79] ***** [42, 58, 12, 33, 39, 51, 6]\n",
      "[70, 24, 87] ***** [90, 79, 79]\n",
      "[70] ***** [24, 87]\n",
      "[24] ***** [87]\n",
      "izquierda [24], derecha [87]\n",
      "[24, 87]\n",
      "--------------------------------------------------\n",
      "izquierda [70], derecha [24, 87]\n",
      "[24, 70, 87]\n",
      "--------------------------------------------------\n",
      "[90] ***** [79, 79]\n",
      "[79] ***** [79]\n",
      "izquierda [79], derecha [79]\n",
      "[79, 79]\n",
      "--------------------------------------------------\n",
      "izquierda [90], derecha [79, 79]\n",
      "[79, 79, 90]\n",
      "--------------------------------------------------\n",
      "izquierda [24, 70, 87], derecha [79, 79, 90]\n",
      "[24, 70, 79, 79, 87, 90]\n",
      "--------------------------------------------------\n",
      "[42, 58, 12] ***** [33, 39, 51, 6]\n",
      "[42] ***** [58, 12]\n",
      "[58] ***** [12]\n",
      "izquierda [58], derecha [12]\n",
      "[12, 58]\n",
      "--------------------------------------------------\n",
      "izquierda [42], derecha [12, 58]\n",
      "[12, 42, 58]\n",
      "--------------------------------------------------\n",
      "[33, 39] ***** [51, 6]\n",
      "[33] ***** [39]\n",
      "izquierda [33], derecha [39]\n",
      "[33, 39]\n",
      "--------------------------------------------------\n",
      "[51] ***** [6]\n",
      "izquierda [51], derecha [6]\n",
      "[6, 51]\n",
      "--------------------------------------------------\n",
      "izquierda [33, 39], derecha [6, 51]\n",
      "[6, 33, 39, 51]\n",
      "--------------------------------------------------\n",
      "izquierda [12, 42, 58], derecha [6, 33, 39, 51]\n",
      "[6, 12, 33, 39, 42, 51, 58]\n",
      "--------------------------------------------------\n",
      "izquierda [24, 70, 79, 79, 87, 90], derecha [6, 12, 33, 39, 42, 51, 58]\n",
      "[6, 12, 24, 33, 39, 42, 51, 58, 70, 79, 79, 87, 90]\n",
      "--------------------------------------------------\n",
      "izquierda [1, 19, 23, 31, 31, 36, 50, 62, 74, 85, 90, 98], derecha [6, 12, 24, 33, 39, 42, 51, 58, 70, 79, 79, 87, 90]\n",
      "[1, 6, 12, 19, 23, 24, 31, 31, 33, 36, 39, 42, 50, 51, 58, 62, 70, 74, 79, 79, 85, 87, 90, 90, 98]\n",
      "--------------------------------------------------\n",
      "izquierda [4, 4, 7, 13, 15, 17, 22, 22, 22, 25, 25, 31, 34, 36, 39, 54, 63, 65, 73, 75, 82, 84, 92, 92, 94], derecha [1, 6, 12, 19, 23, 24, 31, 31, 33, 36, 39, 42, 50, 51, 58, 62, 70, 74, 79, 79, 85, 87, 90, 90, 98]\n",
      "[1, 4, 4, 6, 7, 12, 13, 15, 17, 19, 22, 22, 22, 23, 24, 25, 25, 31, 31, 31, 33, 34, 36, 36, 39, 39, 42, 50, 51, 54, 58, 62, 63, 65, 70, 73, 74, 75, 79, 79, 82, 84, 85, 87, 90, 90, 92, 92, 94, 98]\n",
      "--------------------------------------------------\n",
      "izquierda [0, 0, 1, 1, 2, 5, 8, 9, 10, 10, 14, 15, 17, 23, 24, 25, 25, 26, 27, 27, 27, 29, 30, 34, 46, 53, 54, 56, 57, 58, 58, 63, 64, 65, 65, 65, 66, 68, 74, 74, 81, 82, 87, 88, 89, 92, 92, 94, 100, 100], derecha [1, 4, 4, 6, 7, 12, 13, 15, 17, 19, 22, 22, 22, 23, 24, 25, 25, 31, 31, 31, 33, 34, 36, 36, 39, 39, 42, 50, 51, 54, 58, 62, 63, 65, 70, 73, 74, 75, 79, 79, 82, 84, 85, 87, 90, 90, 92, 92, 94, 98]\n",
      "[0, 0, 1, 1, 1, 2, 4, 4, 5, 6, 7, 8, 9, 10, 10, 12, 13, 14, 15, 15, 17, 17, 19, 22, 22, 22, 23, 23, 24, 24, 25, 25, 25, 25, 26, 27, 27, 27, 29, 30, 31, 31, 31, 33, 34, 34, 36, 36, 39, 39, 42, 46, 50, 51, 53, 54, 54, 56, 57, 58, 58, 58, 62, 63, 63, 64, 65, 65, 65, 65, 66, 68, 70, 73, 74, 74, 74, 75, 79, 79, 81, 82, 82, 84, 85, 87, 87, 88, 89, 90, 90, 92, 92, 92, 92, 94, 94, 98, 100, 100]\n",
      "--------------------------------------------------\n",
      "[0, 0, 1, 1, 1, 2, 4, 4, 5, 6, 7, 8, 9, 10, 10, 12, 13, 14, 15, 15, 17, 17, 19, 22, 22, 22, 23, 23, 24, 24, 25, 25, 25, 25, 26, 27, 27, 27, 29, 30, 31, 31, 31, 33, 34, 34, 36, 36, 39, 39, 42, 46, 50, 51, 53, 54, 54, 56, 57, 58, 58, 58, 62, 63, 63, 64, 65, 65, 65, 65, 66, 68, 70, 73, 74, 74, 74, 75, 79, 79, 81, 82, 82, 84, 85, 87, 87, 88, 89, 90, 90, 92, 92, 92, 92, 94, 94, 98, 100, 100]\n"
     ]
    }
   ],
   "source": [
    "import random\n",
    "\n",
    "def ordenamiento_por_mezcla(lista):\n",
    "    if len(lista) > 1:\n",
    "        medio = len(lista) // 2\n",
    "        izquierda = lista[:medio]\n",
    "        derecha = lista[medio:]\n",
    "        print(izquierda, '*' * 5, derecha)\n",
    "\n",
    "        # llamada recursiva en cada mitad\n",
    "        ordenamiento_por_mezcla(izquierda)\n",
    "        ordenamiento_por_mezcla(derecha)\n",
    "\n",
    "        # Iteradores para recorrer las dos sublistas\n",
    "        i = 0\n",
    "        j = 0\n",
    "        # Iterador para la lista principal\n",
    "        k = 0\n",
    "\n",
    "        while i < len(izquierda) and j < len(derecha):\n",
    "            if izquierda[i] < derecha[j]:\n",
    "                lista[k] = izquierda[i]\n",
    "                i += 1\n",
    "            else:\n",
    "                lista[k] = derecha[j]\n",
    "                j += 1\n",
    "\n",
    "            k += 1\n",
    "\n",
    "        while i < len(izquierda):\n",
    "            lista[k] = izquierda[i]\n",
    "            i += 1\n",
    "            k +=1\n",
    "\n",
    "        while j < len(derecha):\n",
    "            lista[k] = derecha[j]\n",
    "            j += 1\n",
    "            k += 1\n",
    "        \n",
    "        print(f'izquierda {izquierda}, derecha {derecha}')\n",
    "        print(lista)\n",
    "        print('-' * 50)\n",
    "\n",
    "    return lista\n",
    "\n",
    "\n",
    "tamano_de_lista = int(input('De que tamano sera la lista? '))\n",
    "\n",
    "lista = [random.randint(0, 100) for i in range(tamano_de_lista)]\n",
    "print(lista)\n",
    "print('-' * 20)\n",
    "\n",
    "lista_ordenada = ordenamiento_por_mezcla(lista)\n",
    "print(lista_ordenada)"
   ]
  },
  {
   "cell_type": "markdown",
   "id": "f70c8f2b",
   "metadata": {},
   "source": [
    "# Graficar con Bokeh"
   ]
  },
  {
   "cell_type": "markdown",
   "id": "c2ffc161",
   "metadata": {},
   "source": [
    "Documentacion: http://docs.bokeh.org/en/latest/index.html"
   ]
  },
  {
   "cell_type": "code",
   "execution_count": 97,
   "id": "1e723a7e",
   "metadata": {},
   "outputs": [],
   "source": [
    "from bokeh.plotting import figure, output_file, show\n",
    "import csv\n",
    "\n",
    "def Leer_CSV(ruta):\n",
    "    \n",
    "    fecha = []\n",
    "    hospitalizados_cdmx = []\n",
    "    intubados_cdmx = []\n",
    "\n",
    "    with open(ruta, newline='') as File:\n",
    "        reader = csv.reader(File)\n",
    "        data = list(reader)\n",
    "        \n",
    "        for i in range(len(data)):\n",
    "            for j in range(len(data[i])):\n",
    "                if j == 0:\n",
    "                    fecha.append(data[i][j])\n",
    "                elif j == 1:\n",
    "                    hospitalizados_cdmx.append(int(data[i][j]))\n",
    "                else:\n",
    "                    intubados_cdmx.append(int(data[i][j]))\n",
    "    #print('Fechas: \\n', fecha)\n",
    "    #print('Hospitalizados: \\n', hospitalizados_cdmx)\n",
    "    #print('Intubados: \\n', intubados_cdmx)\n",
    "    Crear_grafico(fecha, hospitalizados_cdmx, intubados_cdmx)\n",
    "\n",
    "def Crear_grafico(fecha, lista1, lista2):\n",
    "    output_file('Covid_cdmx.html')\n",
    "    fig1 = figure(x_range = fecha, plot_height=800, plot_width = 1800, title=\"Casos de Hospitlalizacion por COVID en CDMX y Edo. Méx.\")\n",
    "\n",
    "    fig1.vbar(x=fecha, top=lista1, width=0.9)\n",
    "    fig1.y_range.start = 0\n",
    "    fig1.xaxis.major_label_orientation = 1.2\n",
    "\n",
    "    show(fig1)\n",
    "\n",
    "    \n",
    "Leer_CSV('personas-hospitalizadas-covid19.csv')"
   ]
  },
  {
   "cell_type": "markdown",
   "id": "1e7eee02",
   "metadata": {},
   "source": [
    "# Introduccion a la optimizacion (El problema del morral)"
   ]
  },
  {
   "cell_type": "code",
   "execution_count": 3,
   "id": "194d4d35",
   "metadata": {},
   "outputs": [],
   "source": [
    "def morral(tamano_morral, pesos, valores, n):\n",
    "    \n",
    "    if n==0 or tamano_morral==0: #caso baso, por si se llena el morral\n",
    "        return 0\n",
    "    \n",
    "    if pesos[n-1] > tamano_morral: #otro caso base por si el peso de un elemento es mayor al tama;o del morral\n",
    "        return morral(tamano_morral, pesos, valores, n-1)\n",
    "    \n",
    "    return max(valores[n-1] + morral(tamano_morral - pesos[n-1], pesos, valores, n-1),\n",
    "              morral(tamano_morral, pesos, valores, n-1))\n",
    "\n",
    "               \n",
    "\n"
   ]
  },
  {
   "cell_type": "code",
   "execution_count": 10,
   "id": "001fda27",
   "metadata": {},
   "outputs": [
    {
     "name": "stdout",
     "output_type": "stream",
     "text": [
      "220\n"
     ]
    }
   ],
   "source": [
    "valores = [60, 100, 120]\n",
    "pesos = [10, 20, 30]\n",
    "\n",
    "tamano_morral = 50\n",
    "n = len(valores)\n",
    "\n",
    "resultado = morral(tamano_morral, pesos, valores, n)\n",
    "print(resultado)"
   ]
  }
 ],
 "metadata": {
  "kernelspec": {
   "display_name": "Python 3 (ipykernel)",
   "language": "python",
   "name": "python3"
  },
  "language_info": {
   "codemirror_mode": {
    "name": "ipython",
    "version": 3
   },
   "file_extension": ".py",
   "mimetype": "text/x-python",
   "name": "python",
   "nbconvert_exporter": "python",
   "pygments_lexer": "ipython3",
   "version": "3.8.10"
  }
 },
 "nbformat": 4,
 "nbformat_minor": 5
}
