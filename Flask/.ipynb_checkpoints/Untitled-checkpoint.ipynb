{
 "cells": [
  {
   "cell_type": "markdown",
   "id": "eddef2da",
   "metadata": {},
   "source": [
    "## Comandos basicos en Flask"
   ]
  },
  {
   "cell_type": "markdown",
   "id": "850344f4",
   "metadata": {},
   "source": [
    "Una vez teniendo el archivo py, se crea la app de flask:\n",
    "export FLASK_APP=main.py\n",
    "\n",
    "luego se inicia el servidor con \n",
    "flask run"
   ]
  },
  {
   "cell_type": "markdown",
   "id": "d9c7cac1",
   "metadata": {},
   "source": []
  },
  {
   "cell_type": "markdown",
   "id": "fbe32915",
   "metadata": {},
   "source": []
  },
  {
   "cell_type": "markdown",
   "id": "12bd75db",
   "metadata": {},
   "source": []
  },
  {
   "cell_type": "markdown",
   "id": "6dc472f6",
   "metadata": {},
   "source": []
  },
  {
   "cell_type": "markdown",
   "id": "7f269c8e",
   "metadata": {},
   "source": []
  },
  {
   "cell_type": "code",
   "execution_count": null,
   "id": "7b0bb01b",
   "metadata": {},
   "outputs": [],
   "source": []
  },
  {
   "cell_type": "code",
   "execution_count": null,
   "id": "5a05d951",
   "metadata": {},
   "outputs": [],
   "source": []
  }
 ],
 "metadata": {
  "kernelspec": {
   "display_name": "Python 3 (ipykernel)",
   "language": "python",
   "name": "python3"
  },
  "language_info": {
   "codemirror_mode": {
    "name": "ipython",
    "version": 3
   },
   "file_extension": ".py",
   "mimetype": "text/x-python",
   "name": "python",
   "nbconvert_exporter": "python",
   "pygments_lexer": "ipython3",
   "version": "3.8.10"
  }
 },
 "nbformat": 4,
 "nbformat_minor": 5
}
