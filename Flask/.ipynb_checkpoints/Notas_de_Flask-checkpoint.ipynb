{
 "cells": [
  {
   "cell_type": "markdown",
   "id": "eddef2da",
   "metadata": {},
   "source": [
    "## Comandos basicos en Flask"
   ]
  },
  {
   "cell_type": "markdown",
   "id": "850344f4",
   "metadata": {},
   "source": [
    "- Una vez teniendo el archivo py, se crea la app de flask:\n",
    "\n",
    "export FLASK_APP=main.py\n",
    "\n",
    "- Luego se inicia el servidor con \n",
    "\n",
    "flask run"
   ]
  },
  {
   "cell_type": "markdown",
   "id": "fce57099",
   "metadata": {},
   "source": [
    "- Inicializar el modo DEBUG:\n",
    "\n",
    "FLASK_DEBUG=1\n",
    "\n",
    "- Luego\n",
    "\n",
    "flask test"
   ]
  },
  {
   "cell_type": "code",
   "execution_count": null,
   "id": "5a05d951",
   "metadata": {},
   "outputs": [],
   "source": []
  }
 ],
 "metadata": {
  "kernelspec": {
   "display_name": "Python 3 (ipykernel)",
   "language": "python",
   "name": "python3"
  },
  "language_info": {
   "codemirror_mode": {
    "name": "ipython",
    "version": 3
   },
   "file_extension": ".py",
   "mimetype": "text/x-python",
   "name": "python",
   "nbconvert_exporter": "python",
   "pygments_lexer": "ipython3",
   "version": "3.8.10"
  }
 },
 "nbformat": 4,
 "nbformat_minor": 5
}
